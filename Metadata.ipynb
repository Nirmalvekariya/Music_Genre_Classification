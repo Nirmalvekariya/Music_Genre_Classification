{
 "cells": [
  {
   "cell_type": "markdown",
   "metadata": {},
   "source": [
    "# loading audio file and fetching metadata"
   ]
  },
  {
   "cell_type": "code",
   "execution_count": 3,
   "metadata": {},
   "outputs": [],
   "source": [
    "ace=10\n",
    "class Metadata1():\n",
    "    \n",
    "    def __init__(self, filename):\n",
    "        self.f = filename\n",
    "        \n",
    "    def getmetadata(self):\n",
    "        import librosa\n",
    "        import numpy as np\n",
    "\n",
    "\n",
    "        y, sr = librosa.load(self.f)\n",
    "        #fetching tempo\n",
    "\n",
    "        onset_env = librosa.onset.onset_strength(y, sr)\n",
    "        tempo = librosa.beat.tempo(onset_envelope=onset_env, sr=sr)\n",
    "\n",
    "        #fetching beats\n",
    "\n",
    "        y_harmonic, y_percussive = librosa.effects.hpss(y)\n",
    "        tempo, beat_frames = librosa.beat.beat_track(y=y_percussive,sr=sr)\n",
    "\n",
    "        #chroma_stft\n",
    "\n",
    "        chroma_stft = librosa.feature.chroma_stft(y=y, sr=sr)\n",
    "\n",
    "        #rmse\n",
    "\n",
    "        rmse = librosa.feature.rmse(y=y)\n",
    "\n",
    "        #fetching spectral centroid\n",
    "\n",
    "        spec_centroid = librosa.feature.spectral_centroid(y, sr=sr)[0]\n",
    "\n",
    "        #spectral bandwidth\n",
    "\n",
    "        spec_bw = librosa.feature.spectral_bandwidth(y=y, sr=sr)\n",
    "\n",
    "        #fetching spectral rolloff\n",
    "\n",
    "        spec_rolloff = librosa.feature.spectral_rolloff(y+0.01, sr=sr)[0]\n",
    "\n",
    "        #zero crossing rate\n",
    "\n",
    "        zero_crossing = librosa.feature.zero_crossing_rate(y)\n",
    "\n",
    "        #mfcc\n",
    "\n",
    "        mfcc = librosa.feature.mfcc(y=y, sr=sr)\n",
    "\n",
    "        #metadata dictionary\n",
    "\n",
    "        metadata_dict = {'tempo':tempo,'chroma_stft':np.mean(chroma_stft),'rmse':np.mean(rmse),\n",
    "                         'spectral_centroid':np.mean(spec_centroid),'spectral_bandwidth':np.mean(spec_bw), \n",
    "                         'rolloff':np.mean(spec_rolloff), 'zero_crossing_rates':np.mean(zero_crossing)}\n",
    "\n",
    "        for i in range(1,21):\n",
    "            metadata_dict.update({'mfcc'+str(i):np.mean(mfcc[i-1])})\n",
    "\n",
    "        return list(metadata_dict.values())\n",
    "\n"
   ]
  },
  {
   "cell_type": "code",
   "execution_count": null,
   "metadata": {},
   "outputs": [],
   "source": []
  }
 ],
 "metadata": {
  "kernelspec": {
   "display_name": "Python 3",
   "language": "python",
   "name": "python3"
  },
  "language_info": {
   "codemirror_mode": {
    "name": "ipython",
    "version": 3
   },
   "file_extension": ".py",
   "mimetype": "text/x-python",
   "name": "python",
   "nbconvert_exporter": "python",
   "pygments_lexer": "ipython3",
   "version": "3.7.4"
  }
 },
 "nbformat": 4,
 "nbformat_minor": 2
}
